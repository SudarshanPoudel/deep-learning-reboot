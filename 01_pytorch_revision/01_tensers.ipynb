{
  "cells": [
    {
      "cell_type": "markdown",
      "metadata": {
        "id": "view-in-github",
        "colab_type": "text"
      },
      "source": [
        "<a href=\"https://colab.research.google.com/github/SudarshanPoudel/deep-learning-reboot/blob/main/01_pytorch_revision/01_tensers.ipynb\" target=\"_parent\"><img src=\"https://colab.research.google.com/assets/colab-badge.svg\" alt=\"Open In Colab\"/></a>"
      ]
    },
    {
      "cell_type": "markdown",
      "source": [
        "# Setting up"
      ],
      "metadata": {
        "id": "o-IgTQl-P38I"
      }
    },
    {
      "cell_type": "code",
      "source": [
        "import torch\n",
        "\n",
        "torch.__version__"
      ],
      "metadata": {
        "id": "ptsigmtrPXcG",
        "outputId": "026c59c5-26dc-456b-dd80-83e78ef28064",
        "colab": {
          "base_uri": "https://localhost:8080/",
          "height": 35
        }
      },
      "execution_count": 1,
      "outputs": [
        {
          "output_type": "execute_result",
          "data": {
            "text/plain": [
              "'2.6.0+cu124'"
            ],
            "application/vnd.google.colaboratory.intrinsic+json": {
              "type": "string"
            }
          },
          "metadata": {},
          "execution_count": 1
        }
      ]
    },
    {
      "cell_type": "code",
      "source": [
        "torch.cuda.is_available()"
      ],
      "metadata": {
        "id": "jY4T4T4SPe09",
        "outputId": "6ede5898-ed5e-4370-9d78-bd45b3da426d",
        "colab": {
          "base_uri": "https://localhost:8080/"
        }
      },
      "execution_count": 2,
      "outputs": [
        {
          "output_type": "execute_result",
          "data": {
            "text/plain": [
              "True"
            ]
          },
          "metadata": {},
          "execution_count": 2
        }
      ]
    },
    {
      "cell_type": "markdown",
      "source": [
        "# creating a tensor"
      ],
      "metadata": {
        "id": "NLwKMyuRP7Ho"
      }
    },
    {
      "cell_type": "code",
      "source": [
        "a = torch.empty(2, 3)\n",
        "a"
      ],
      "metadata": {
        "id": "pl1-N6ohPrr-",
        "outputId": "6add6abd-5cd6-48ca-f583-9a20d4b51b17",
        "colab": {
          "base_uri": "https://localhost:8080/"
        }
      },
      "execution_count": 3,
      "outputs": [
        {
          "output_type": "execute_result",
          "data": {
            "text/plain": [
              "tensor([[7.8970e-25, 4.5426e-41, 0.0000e+00],\n",
              "        [0.0000e+00, 1.9618e-44, 9.2196e-41]])"
            ]
          },
          "metadata": {},
          "execution_count": 3
        }
      ]
    },
    {
      "cell_type": "code",
      "source": [
        "type(a)"
      ],
      "metadata": {
        "id": "jAO8xpw2QBnv",
        "outputId": "ef205b81-b935-4cfc-86f8-0782ab34e7c6",
        "colab": {
          "base_uri": "https://localhost:8080/"
        }
      },
      "execution_count": 4,
      "outputs": [
        {
          "output_type": "execute_result",
          "data": {
            "text/plain": [
              "torch.Tensor"
            ]
          },
          "metadata": {},
          "execution_count": 4
        }
      ]
    },
    {
      "cell_type": "code",
      "source": [
        "torch.zeros(2, 3)"
      ],
      "metadata": {
        "id": "oCzb4XIUQGiU",
        "outputId": "f43db105-adab-4a14-a466-2933f0e63dbc",
        "colab": {
          "base_uri": "https://localhost:8080/"
        }
      },
      "execution_count": 5,
      "outputs": [
        {
          "output_type": "execute_result",
          "data": {
            "text/plain": [
              "tensor([[0., 0., 0.],\n",
              "        [0., 0., 0.]])"
            ]
          },
          "metadata": {},
          "execution_count": 5
        }
      ]
    },
    {
      "cell_type": "code",
      "source": [
        "torch.rand(6, 2)"
      ],
      "metadata": {
        "id": "ngW6r1KbQI9E",
        "outputId": "99e5a25a-507a-458c-fe5c-0326aa67725c",
        "colab": {
          "base_uri": "https://localhost:8080/"
        }
      },
      "execution_count": 6,
      "outputs": [
        {
          "output_type": "execute_result",
          "data": {
            "text/plain": [
              "tensor([[0.6378, 0.0952],\n",
              "        [0.9583, 0.9363],\n",
              "        [0.0078, 0.1118],\n",
              "        [0.2558, 0.0295],\n",
              "        [0.8945, 0.2157],\n",
              "        [0.5767, 0.4511]])"
            ]
          },
          "metadata": {},
          "execution_count": 6
        }
      ]
    },
    {
      "cell_type": "code",
      "source": [
        "torch.manual_seed(42)\n",
        "torch.rand(6, 2)"
      ],
      "metadata": {
        "id": "Dc05uZw3QORN",
        "outputId": "8d9e8cdd-e0c7-489a-eed4-62ed28fb4983",
        "colab": {
          "base_uri": "https://localhost:8080/"
        }
      },
      "execution_count": 7,
      "outputs": [
        {
          "output_type": "execute_result",
          "data": {
            "text/plain": [
              "tensor([[0.8823, 0.9150],\n",
              "        [0.3829, 0.9593],\n",
              "        [0.3904, 0.6009],\n",
              "        [0.2566, 0.7936],\n",
              "        [0.9408, 0.1332],\n",
              "        [0.9346, 0.5936]])"
            ]
          },
          "metadata": {},
          "execution_count": 7
        }
      ]
    },
    {
      "cell_type": "code",
      "source": [
        "torch.tensor([[1, 2], [3, 4]])"
      ],
      "metadata": {
        "id": "ulquXeQeQZw-",
        "outputId": "9a11c337-724d-4148-a459-7799dbe2f936",
        "colab": {
          "base_uri": "https://localhost:8080/"
        }
      },
      "execution_count": 8,
      "outputs": [
        {
          "output_type": "execute_result",
          "data": {
            "text/plain": [
              "tensor([[1, 2],\n",
              "        [3, 4]])"
            ]
          },
          "metadata": {},
          "execution_count": 8
        }
      ]
    },
    {
      "cell_type": "code",
      "source": [
        "torch.eye(7)"
      ],
      "metadata": {
        "id": "aDQQkR8YQgkY",
        "outputId": "238af23a-58df-496a-d4ca-aafc63800697",
        "colab": {
          "base_uri": "https://localhost:8080/"
        }
      },
      "execution_count": 9,
      "outputs": [
        {
          "output_type": "execute_result",
          "data": {
            "text/plain": [
              "tensor([[1., 0., 0., 0., 0., 0., 0.],\n",
              "        [0., 1., 0., 0., 0., 0., 0.],\n",
              "        [0., 0., 1., 0., 0., 0., 0.],\n",
              "        [0., 0., 0., 1., 0., 0., 0.],\n",
              "        [0., 0., 0., 0., 1., 0., 0.],\n",
              "        [0., 0., 0., 0., 0., 1., 0.],\n",
              "        [0., 0., 0., 0., 0., 0., 1.]])"
            ]
          },
          "metadata": {},
          "execution_count": 9
        }
      ]
    },
    {
      "cell_type": "markdown",
      "source": [
        "# Tensor shapes"
      ],
      "metadata": {
        "id": "jnQsTqBUQs2W"
      }
    },
    {
      "cell_type": "code",
      "source": [
        "x = torch.tensor([[1, 2, 3], [4, 5, 6]])\n",
        "x.shape"
      ],
      "metadata": {
        "id": "0SJrua-iQoQ5",
        "outputId": "81e3ee0c-45c9-4610-9a16-8ee17dc8856e",
        "colab": {
          "base_uri": "https://localhost:8080/"
        }
      },
      "execution_count": 10,
      "outputs": [
        {
          "output_type": "execute_result",
          "data": {
            "text/plain": [
              "torch.Size([2, 3])"
            ]
          },
          "metadata": {},
          "execution_count": 10
        }
      ]
    },
    {
      "cell_type": "code",
      "source": [
        "torch.empty_like(x)"
      ],
      "metadata": {
        "id": "EpwB2wnxQxTR",
        "outputId": "64f784ab-6a4a-482d-dea5-f7829641cfac",
        "colab": {
          "base_uri": "https://localhost:8080/"
        }
      },
      "execution_count": 11,
      "outputs": [
        {
          "output_type": "execute_result",
          "data": {
            "text/plain": [
              "tensor([[                  0,                   0, 2314885530279477261],\n",
              "        [          996319104, 7881701906593088616,           996319136]])"
            ]
          },
          "metadata": {},
          "execution_count": 11
        }
      ]
    },
    {
      "cell_type": "markdown",
      "source": [
        "# Tensor data types"
      ],
      "metadata": {
        "id": "fuHpBlnSRGFX"
      }
    },
    {
      "cell_type": "code",
      "source": [
        "x.dtype"
      ],
      "metadata": {
        "id": "PObE7loxQ7SD",
        "outputId": "e84bdaf1-bafe-42e1-dfba-49d93bdea209",
        "colab": {
          "base_uri": "https://localhost:8080/"
        }
      },
      "execution_count": 12,
      "outputs": [
        {
          "output_type": "execute_result",
          "data": {
            "text/plain": [
              "torch.int64"
            ]
          },
          "metadata": {},
          "execution_count": 12
        }
      ]
    },
    {
      "cell_type": "code",
      "source": [
        "y = torch.tensor([[1, 2, 3], [4, 5, 6]], dtype=torch.float16)\n",
        "y.dtype"
      ],
      "metadata": {
        "id": "8juW0n9bRMmO",
        "outputId": "d815e535-ef30-4c4c-c07c-0bd04bf5c385",
        "colab": {
          "base_uri": "https://localhost:8080/"
        }
      },
      "execution_count": 13,
      "outputs": [
        {
          "output_type": "execute_result",
          "data": {
            "text/plain": [
              "torch.float16"
            ]
          },
          "metadata": {},
          "execution_count": 13
        }
      ]
    },
    {
      "cell_type": "code",
      "source": [
        "x.to(torch.float16)"
      ],
      "metadata": {
        "id": "ZflUpyEpRTrg",
        "outputId": "a369983e-7ab4-4309-d98e-63b484ca80f4",
        "colab": {
          "base_uri": "https://localhost:8080/"
        }
      },
      "execution_count": 14,
      "outputs": [
        {
          "output_type": "execute_result",
          "data": {
            "text/plain": [
              "tensor([[1., 2., 3.],\n",
              "        [4., 5., 6.]], dtype=torch.float16)"
            ]
          },
          "metadata": {},
          "execution_count": 14
        }
      ]
    },
    {
      "cell_type": "code",
      "source": [
        "x.dtype"
      ],
      "metadata": {
        "id": "Uya1CvlCRaD3",
        "outputId": "ece84115-294b-45fe-84c0-315d2d3586c8",
        "colab": {
          "base_uri": "https://localhost:8080/"
        }
      },
      "execution_count": 15,
      "outputs": [
        {
          "output_type": "execute_result",
          "data": {
            "text/plain": [
              "torch.int64"
            ]
          },
          "metadata": {},
          "execution_count": 15
        }
      ]
    },
    {
      "cell_type": "markdown",
      "source": [
        "# Mathematical Operations"
      ],
      "metadata": {
        "id": "EL-N80osRkCP"
      }
    },
    {
      "cell_type": "code",
      "source": [
        "x = torch.tensor([[1, 2], [3, 4]])\n",
        "x/2"
      ],
      "metadata": {
        "id": "3spzXtHhRbPr",
        "outputId": "392388aa-d07f-46fc-be61-49134c4fc2a6",
        "colab": {
          "base_uri": "https://localhost:8080/"
        }
      },
      "execution_count": 16,
      "outputs": [
        {
          "output_type": "execute_result",
          "data": {
            "text/plain": [
              "tensor([[0.5000, 1.0000],\n",
              "        [1.5000, 2.0000]])"
            ]
          },
          "metadata": {},
          "execution_count": 16
        }
      ]
    },
    {
      "cell_type": "code",
      "source": [
        "y = torch.tensor([[5, 6], [7, -8]])\n",
        "x + y"
      ],
      "metadata": {
        "id": "vhhlUPwjRtU7",
        "outputId": "151ae869-742f-4688-f7fd-ba15518d788d",
        "colab": {
          "base_uri": "https://localhost:8080/"
        }
      },
      "execution_count": 17,
      "outputs": [
        {
          "output_type": "execute_result",
          "data": {
            "text/plain": [
              "tensor([[ 6,  8],\n",
              "        [10, -4]])"
            ]
          },
          "metadata": {},
          "execution_count": 17
        }
      ]
    },
    {
      "cell_type": "code",
      "source": [
        "torch.absolute(y)"
      ],
      "metadata": {
        "id": "vostKZglR3ve",
        "outputId": "0716e220-c648-4e81-87c4-7e3f5c0217eb",
        "colab": {
          "base_uri": "https://localhost:8080/"
        }
      },
      "execution_count": 18,
      "outputs": [
        {
          "output_type": "execute_result",
          "data": {
            "text/plain": [
              "tensor([[5, 6],\n",
              "        [7, 8]])"
            ]
          },
          "metadata": {},
          "execution_count": 18
        }
      ]
    },
    {
      "cell_type": "code",
      "source": [
        "torch.clamp(x, min=2, max=3)"
      ],
      "metadata": {
        "id": "5KFg69UiSEam",
        "outputId": "234c5522-40f9-4306-9a7b-949e5f56dc55",
        "colab": {
          "base_uri": "https://localhost:8080/"
        }
      },
      "execution_count": 19,
      "outputs": [
        {
          "output_type": "execute_result",
          "data": {
            "text/plain": [
              "tensor([[2, 2],\n",
              "        [3, 3]])"
            ]
          },
          "metadata": {},
          "execution_count": 19
        }
      ]
    },
    {
      "cell_type": "code",
      "source": [
        "torch.sum(x)"
      ],
      "metadata": {
        "id": "gUUr09QvSLQg",
        "outputId": "7de6f5ab-8dc2-4aac-868f-8366a60c75d2",
        "colab": {
          "base_uri": "https://localhost:8080/"
        }
      },
      "execution_count": 20,
      "outputs": [
        {
          "output_type": "execute_result",
          "data": {
            "text/plain": [
              "tensor(10)"
            ]
          },
          "metadata": {},
          "execution_count": 20
        }
      ]
    },
    {
      "cell_type": "code",
      "source": [
        "torch.sum(x, dim=0)"
      ],
      "metadata": {
        "id": "2lZYnKolSO18",
        "outputId": "61cc88c8-943c-44bb-e2fe-584c332de29c",
        "colab": {
          "base_uri": "https://localhost:8080/"
        }
      },
      "execution_count": 21,
      "outputs": [
        {
          "output_type": "execute_result",
          "data": {
            "text/plain": [
              "tensor([4, 6])"
            ]
          },
          "metadata": {},
          "execution_count": 21
        }
      ]
    },
    {
      "cell_type": "markdown",
      "source": [
        "# Matrix Operations"
      ],
      "metadata": {
        "id": "axbHJQgcSdrJ"
      }
    },
    {
      "cell_type": "code",
      "source": [
        "x = torch.tensor([[1, 2], [2,3], [3, 4]], dtype=torch.float16)\n",
        "y = torch.tensor([[5, 6], [6, 7]], dtype=torch.float16)\n",
        "torch.matmul(x, y)"
      ],
      "metadata": {
        "id": "9EYO8CjhSRzN",
        "outputId": "e4422b12-ab82-4172-e72b-d4186e87dfa8",
        "colab": {
          "base_uri": "https://localhost:8080/"
        }
      },
      "execution_count": 22,
      "outputs": [
        {
          "output_type": "execute_result",
          "data": {
            "text/plain": [
              "tensor([[17., 20.],\n",
              "        [28., 33.],\n",
              "        [39., 46.]], dtype=torch.float16)"
            ]
          },
          "metadata": {},
          "execution_count": 22
        }
      ]
    },
    {
      "cell_type": "code",
      "source": [
        "torch.transpose(x, 0, 1)"
      ],
      "metadata": {
        "id": "M3H2VTslSm6Q",
        "outputId": "dac31f25-5d69-4764-b110-77a60deda153",
        "colab": {
          "base_uri": "https://localhost:8080/"
        }
      },
      "execution_count": 23,
      "outputs": [
        {
          "output_type": "execute_result",
          "data": {
            "text/plain": [
              "tensor([[1., 2., 3.],\n",
              "        [2., 3., 4.]], dtype=torch.float16)"
            ]
          },
          "metadata": {},
          "execution_count": 23
        }
      ]
    },
    {
      "cell_type": "code",
      "source": [
        "z = torch.tensor([[1, 11], [10, 2]], dtype=torch.float16)\n",
        "y > z"
      ],
      "metadata": {
        "id": "3vsj-kj8S6eG",
        "outputId": "488ea313-6170-4ee1-ccd6-ce8351b89070",
        "colab": {
          "base_uri": "https://localhost:8080/"
        }
      },
      "execution_count": 26,
      "outputs": [
        {
          "output_type": "execute_result",
          "data": {
            "text/plain": [
              "tensor([[ True, False],\n",
              "        [False,  True]])"
            ]
          },
          "metadata": {},
          "execution_count": 26
        }
      ]
    },
    {
      "cell_type": "markdown",
      "source": [
        "# Special function"
      ],
      "metadata": {
        "id": "2ruAfGUbTtRw"
      }
    },
    {
      "cell_type": "code",
      "source": [
        "a = torch.randint(size=(2, 3), high=9, low=-10, dtype=torch.float32)\n",
        "a"
      ],
      "metadata": {
        "id": "OT-zbETYToNU",
        "outputId": "7076cfd3-9376-4286-a795-8c176de373e9",
        "colab": {
          "base_uri": "https://localhost:8080/"
        }
      },
      "execution_count": 7,
      "outputs": [
        {
          "output_type": "execute_result",
          "data": {
            "text/plain": [
              "tensor([[-4.,  3.,  3.],\n",
              "        [-1.,  6.,  3.]])"
            ]
          },
          "metadata": {},
          "execution_count": 7
        }
      ]
    },
    {
      "cell_type": "code",
      "source": [
        "torch.log(a)"
      ],
      "metadata": {
        "id": "M-_DLr4HT3Ui",
        "outputId": "3529e92e-851b-4971-80b0-c554f35a1e4c",
        "colab": {
          "base_uri": "https://localhost:8080/"
        }
      },
      "execution_count": 29,
      "outputs": [
        {
          "output_type": "execute_result",
          "data": {
            "text/plain": [
              "tensor([[1.0986, 1.0986, 2.0794],\n",
              "        [1.6094, 1.3863, 2.0794]])"
            ]
          },
          "metadata": {},
          "execution_count": 29
        }
      ]
    },
    {
      "cell_type": "code",
      "source": [
        "torch.exp(a)"
      ],
      "metadata": {
        "id": "2OUuHpr8T9tA",
        "outputId": "abab2bac-644c-4a73-88c4-f0a522043f7c",
        "colab": {
          "base_uri": "https://localhost:8080/"
        }
      },
      "execution_count": 30,
      "outputs": [
        {
          "output_type": "execute_result",
          "data": {
            "text/plain": [
              "tensor([[  20.0855,   20.0855, 2980.9580],\n",
              "        [ 148.4132,   54.5981, 2980.9580]])"
            ]
          },
          "metadata": {},
          "execution_count": 30
        }
      ]
    },
    {
      "cell_type": "code",
      "source": [
        "torch.sqrt(a)"
      ],
      "metadata": {
        "id": "wv1Lo9R7T_Rg",
        "outputId": "9ac8e5cc-e983-4a51-fe6d-0c8db343963e",
        "colab": {
          "base_uri": "https://localhost:8080/"
        }
      },
      "execution_count": 31,
      "outputs": [
        {
          "output_type": "execute_result",
          "data": {
            "text/plain": [
              "tensor([[1.7321, 1.7321, 2.8284],\n",
              "        [2.2361, 2.0000, 2.8284]])"
            ]
          },
          "metadata": {},
          "execution_count": 31
        }
      ]
    },
    {
      "cell_type": "code",
      "source": [
        "torch.sigmoid(a)"
      ],
      "metadata": {
        "id": "hpXG7gtEUA8C",
        "outputId": "a5886691-24a6-4d58-99fb-1f471522cc3d",
        "colab": {
          "base_uri": "https://localhost:8080/"
        }
      },
      "execution_count": 32,
      "outputs": [
        {
          "output_type": "execute_result",
          "data": {
            "text/plain": [
              "tensor([[0.9526, 0.9526, 0.9997],\n",
              "        [0.9933, 0.9820, 0.9997]])"
            ]
          },
          "metadata": {},
          "execution_count": 32
        }
      ]
    },
    {
      "cell_type": "code",
      "source": [
        "torch.softmax(a, dim=1)"
      ],
      "metadata": {
        "id": "IxWg_DGoUC4P",
        "outputId": "3d4c6e5a-f488-47e7-949f-7b040e0e26de",
        "colab": {
          "base_uri": "https://localhost:8080/"
        }
      },
      "execution_count": 33,
      "outputs": [
        {
          "output_type": "execute_result",
          "data": {
            "text/plain": [
              "tensor([[0.0066, 0.0066, 0.9867],\n",
              "        [0.0466, 0.0171, 0.9362]])"
            ]
          },
          "metadata": {},
          "execution_count": 33
        }
      ]
    },
    {
      "cell_type": "code",
      "source": [
        "torch.relu(a)"
      ],
      "metadata": {
        "id": "cCSef1YwUF6_",
        "outputId": "5d93e5c5-fd69-48b6-8e46-3240905df91a",
        "colab": {
          "base_uri": "https://localhost:8080/"
        }
      },
      "execution_count": 38,
      "outputs": [
        {
          "output_type": "execute_result",
          "data": {
            "text/plain": [
              "tensor([[4., 0., 0.],\n",
              "        [0., 0., 0.]])"
            ]
          },
          "metadata": {},
          "execution_count": 38
        }
      ]
    },
    {
      "cell_type": "markdown",
      "source": [
        "# Inplace operators"
      ],
      "metadata": {
        "id": "twMgNESbUjzX"
      }
    },
    {
      "cell_type": "code",
      "source": [
        "a.add_(x.transpose(0, 1))"
      ],
      "metadata": {
        "id": "AEq_AoUAUjT9",
        "outputId": "f82fbf92-4940-4f74-ed28-49621535cb35",
        "colab": {
          "base_uri": "https://localhost:8080/"
        }
      },
      "execution_count": 43,
      "outputs": [
        {
          "output_type": "execute_result",
          "data": {
            "text/plain": [
              "tensor([[ 5.,  0.,  3.],\n",
              "        [ 1., -1.,  0.]])"
            ]
          },
          "metadata": {},
          "execution_count": 43
        }
      ]
    },
    {
      "cell_type": "code",
      "source": [
        "a"
      ],
      "metadata": {
        "id": "J5zhe72fUKBk",
        "outputId": "2699c1ba-9b1e-4540-c5c3-12af0741ea78",
        "colab": {
          "base_uri": "https://localhost:8080/"
        }
      },
      "execution_count": 44,
      "outputs": [
        {
          "output_type": "execute_result",
          "data": {
            "text/plain": [
              "tensor([[ 5.,  0.,  3.],\n",
              "        [ 1., -1.,  0.]])"
            ]
          },
          "metadata": {},
          "execution_count": 44
        }
      ]
    },
    {
      "cell_type": "code",
      "source": [
        "b = a\n",
        "a[0][0] = 0\n",
        "b"
      ],
      "metadata": {
        "id": "cGHhAE1NUyyt",
        "outputId": "48c69c68-0cba-40c9-8515-dd973a836071",
        "colab": {
          "base_uri": "https://localhost:8080/"
        }
      },
      "execution_count": 45,
      "outputs": [
        {
          "output_type": "execute_result",
          "data": {
            "text/plain": [
              "tensor([[ 0.,  0.,  3.],\n",
              "        [ 1., -1.,  0.]])"
            ]
          },
          "metadata": {},
          "execution_count": 45
        }
      ]
    },
    {
      "cell_type": "code",
      "source": [
        "id(a)"
      ],
      "metadata": {
        "id": "Btlb2dcOVeoK",
        "outputId": "5de51c7e-84ec-4b3d-d6e3-a1ff1d685cde",
        "colab": {
          "base_uri": "https://localhost:8080/"
        }
      },
      "execution_count": 46,
      "outputs": [
        {
          "output_type": "execute_result",
          "data": {
            "text/plain": [
              "139226162543888"
            ]
          },
          "metadata": {},
          "execution_count": 46
        }
      ]
    },
    {
      "cell_type": "code",
      "source": [
        "id(b)"
      ],
      "metadata": {
        "id": "x4os_amKVflN",
        "outputId": "14be781b-0477-4b18-b6da-0a5fb3f69fc1",
        "colab": {
          "base_uri": "https://localhost:8080/"
        }
      },
      "execution_count": 47,
      "outputs": [
        {
          "output_type": "execute_result",
          "data": {
            "text/plain": [
              "139226162543888"
            ]
          },
          "metadata": {},
          "execution_count": 47
        }
      ]
    },
    {
      "cell_type": "code",
      "source": [
        "b = a.clone()\n",
        "a[0][0] = 1\n",
        "b"
      ],
      "metadata": {
        "id": "iRK7BxxJVgDl",
        "outputId": "54b06f07-fab1-4c60-bd0f-0e181ffa3a64",
        "colab": {
          "base_uri": "https://localhost:8080/"
        }
      },
      "execution_count": 48,
      "outputs": [
        {
          "output_type": "execute_result",
          "data": {
            "text/plain": [
              "tensor([[ 0.,  0.,  3.],\n",
              "        [ 1., -1.,  0.]])"
            ]
          },
          "metadata": {},
          "execution_count": 48
        }
      ]
    },
    {
      "cell_type": "code",
      "source": [
        "id(a)"
      ],
      "metadata": {
        "id": "FYRVlbNRVmr0",
        "outputId": "c0b58a48-8cf8-4c05-ba75-b14af91c2759",
        "colab": {
          "base_uri": "https://localhost:8080/"
        }
      },
      "execution_count": 49,
      "outputs": [
        {
          "output_type": "execute_result",
          "data": {
            "text/plain": [
              "139226162543888"
            ]
          },
          "metadata": {},
          "execution_count": 49
        }
      ]
    },
    {
      "cell_type": "code",
      "source": [
        "id(b)"
      ],
      "metadata": {
        "id": "0u8mk3taVnkc",
        "outputId": "9c3d6633-20ec-4d2c-9367-ca7e1d772ddd",
        "colab": {
          "base_uri": "https://localhost:8080/"
        }
      },
      "execution_count": 50,
      "outputs": [
        {
          "output_type": "execute_result",
          "data": {
            "text/plain": [
              "139225730976848"
            ]
          },
          "metadata": {},
          "execution_count": 50
        }
      ]
    },
    {
      "cell_type": "markdown",
      "source": [
        "# Tensor in GPU"
      ],
      "metadata": {
        "id": "F2h1OsU3VtDQ"
      }
    },
    {
      "cell_type": "code",
      "source": [
        "import torch\n",
        "import time\n",
        "\n",
        "if torch.cuda.is_available():\n",
        "    device = torch.device('cuda')\n",
        "else:\n",
        "    device = torch.device('cpu')\n",
        "print(f\"device: {device}\")"
      ],
      "metadata": {
        "id": "IqBJ-6lPVoH4",
        "outputId": "eb1ce5a5-70bc-491d-89c3-fad3224345f4",
        "colab": {
          "base_uri": "https://localhost:8080/"
        }
      },
      "execution_count": 3,
      "outputs": [
        {
          "output_type": "stream",
          "name": "stdout",
          "text": [
            "device: cuda\n"
          ]
        }
      ]
    },
    {
      "cell_type": "code",
      "source": [
        "torch.rand((2, 3), device=device)"
      ],
      "metadata": {
        "id": "u9Dqm8qEV2fz",
        "outputId": "ae7377f5-45f6-4ea7-e3fb-fc34be84e764",
        "colab": {
          "base_uri": "https://localhost:8080/"
        }
      },
      "execution_count": 4,
      "outputs": [
        {
          "output_type": "execute_result",
          "data": {
            "text/plain": [
              "tensor([[0.6965, 0.6781, 0.9205],\n",
              "        [0.9130, 0.7475, 0.7770]], device='cuda:0')"
            ]
          },
          "metadata": {},
          "execution_count": 4
        }
      ]
    },
    {
      "cell_type": "code",
      "source": [
        "a.device"
      ],
      "metadata": {
        "id": "Z1SZgYxPYKV4",
        "outputId": "0b6ad64b-5667-4ba1-e59c-ac3c0c7537ab",
        "colab": {
          "base_uri": "https://localhost:8080/"
        }
      },
      "execution_count": 8,
      "outputs": [
        {
          "output_type": "execute_result",
          "data": {
            "text/plain": [
              "device(type='cpu')"
            ]
          },
          "metadata": {},
          "execution_count": 8
        }
      ]
    },
    {
      "cell_type": "code",
      "source": [
        "b = a.to(device)"
      ],
      "metadata": {
        "id": "NYJsuHAiYPFf"
      },
      "execution_count": 9,
      "outputs": []
    },
    {
      "cell_type": "code",
      "source": [
        "b"
      ],
      "metadata": {
        "id": "mrA6R10CYbsd",
        "outputId": "7f15b718-d1b3-4ebf-9b5f-badce9d218d8",
        "colab": {
          "base_uri": "https://localhost:8080/"
        }
      },
      "execution_count": 10,
      "outputs": [
        {
          "output_type": "execute_result",
          "data": {
            "text/plain": [
              "tensor([[-4.,  3.,  3.],\n",
              "        [-1.,  6.,  3.]], device='cuda:0')"
            ]
          },
          "metadata": {},
          "execution_count": 10
        }
      ]
    },
    {
      "cell_type": "code",
      "source": [
        "size = 10000\n",
        "\n",
        "cpu_mat1 = torch.randn(size, size)\n",
        "cpu_mat2 = torch.randn(size, size)\n",
        "\n",
        "start = time.time()\n",
        "result_cpt = torch.matmul(cpu_mat1, cpu_mat2)\n",
        "print(f\"CPU time: {time.time() - start}\")"
      ],
      "metadata": {
        "id": "cM85N7n3Ydnf",
        "outputId": "66578f38-df84-40a2-c2fb-fa2441456a98",
        "colab": {
          "base_uri": "https://localhost:8080/"
        }
      },
      "execution_count": 15,
      "outputs": [
        {
          "output_type": "stream",
          "name": "stdout",
          "text": [
            "CPU time: 17.286661863327026\n"
          ]
        }
      ]
    },
    {
      "cell_type": "code",
      "source": [
        "gpu_mat1 = torch.randn(size, size, device=device)\n",
        "gpu_mat2 = torch.randn(size, size, device=device)\n",
        "\n",
        "start = time.time()\n",
        "result_cpt = torch.matmul(gpu_mat1, gpu_mat2)\n",
        "print(f\"GPU time: {time.time() - start}\")"
      ],
      "metadata": {
        "id": "Ae1_IC5SY6cc",
        "outputId": "105cfed2-4053-417f-9346-f87aba644752",
        "colab": {
          "base_uri": "https://localhost:8080/"
        }
      },
      "execution_count": 16,
      "outputs": [
        {
          "output_type": "stream",
          "name": "stdout",
          "text": [
            "GPU time: 0.13168072700500488\n"
          ]
        }
      ]
    }
  ],
  "metadata": {
    "language_info": {
      "name": "python"
    },
    "colab": {
      "provenance": [],
      "gpuType": "T4",
      "cell_execution_strategy": "setup",
      "include_colab_link": true
    },
    "kernelspec": {
      "name": "python3",
      "display_name": "Python 3"
    },
    "accelerator": "GPU"
  },
  "nbformat": 4,
  "nbformat_minor": 0
}